{
 "cells": [
  {
   "cell_type": "code",
   "execution_count": 15,
   "metadata": {},
   "outputs": [],
   "source": [
    "import random\n",
    "from random import randint\n",
    "import re\n",
    "import bisect"
   ]
  },
  {
   "cell_type": "code",
   "execution_count": 16,
   "metadata": {},
   "outputs": [
    {
     "name": "stdout",
     "output_type": "stream",
     "text": [
      "numbre of cards :  52\n",
      "terygi\n",
      "[{'id': 0, 'chips': '10000', 'hand': [[4, 'h'], [4, 'c']], 'pear': False}, {'id': 1, 'chips': '10000', 'hand': [[8, 'c'], [5, 'h']], 'pear': False}]\n",
      "0\n",
      "1\n"
     ]
    }
   ],
   "source": [
    "class Poker:\n",
    "\n",
    "    def __init__(self, number_of_players, starting_stack):\n",
    "        self.signs = ['c','d','h','s']\n",
    "        self.numbers = [2,3,4,5,6,7,8,9,10,11,12,13,14]\n",
    "        self.cards = []\n",
    "        self.players=[{'id' : thing, 'chips': starting_stack, 'hand': [], 'pear': False} for thing in range(number_of_players)] \n",
    "        for number in self.numbers:\n",
    "            for sign in self.signs:\n",
    "                self.cards.append([number,sign])\n",
    "        print('numbre of cards : ',len(self.cards))        \n",
    "\n",
    "    def card_dealing(self):\n",
    "        cards = self.cards\n",
    "        random.shuffle(cards)\n",
    "        for dealing_turn in range(2):\n",
    "            for number_of_players in range(len(self.players)):\n",
    "                card = cards[randint(0,len(cards)-1)]\n",
    "                self.players[number_of_players]['hand'].append(card)\n",
    "                self.players[number_of_players]['hand'].sort(reverse = True)\n",
    "                cards.remove(card)\n",
    "                if len(self.players[number_of_players]['hand'])==2:\n",
    "                    if self.players[number_of_players]['hand'][0][0]==self.players[number_of_players]['hand'][1][0]:\n",
    "                        self.players[number_of_players]['pear'] = True\n",
    "\n",
    "        print(self.players)\n",
    "\n",
    "    def compute_result(self):\n",
    "        result = []\n",
    "        for player_id in range(len(self.players)):\n",
    "            print(player_id)\n",
    "            \n",
    "            \n",
    "        \n",
    "\n",
    "        \n",
    "    \n",
    "        \n",
    "\n",
    "game = Poker(2,'10000')\n",
    "game.card_dealing()\n",
    "game.compute_result()\n"
   ]
  }
 ],
 "metadata": {
  "kernelspec": {
   "display_name": "Python 3",
   "language": "python",
   "name": "python3"
  },
  "language_info": {
   "codemirror_mode": {
    "name": "ipython",
    "version": 3
   },
   "file_extension": ".py",
   "mimetype": "text/x-python",
   "name": "python",
   "nbconvert_exporter": "python",
   "pygments_lexer": "ipython3",
   "version": "3.9.13"
  },
  "orig_nbformat": 4,
  "vscode": {
   "interpreter": {
    "hash": "5d6036a44b32b998b53841d0842f69976c300bf0bd2109f4a97006196c3149de"
   }
  }
 },
 "nbformat": 4,
 "nbformat_minor": 2
}
