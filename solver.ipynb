{
 "cells": [
  {
   "attachments": {},
   "cell_type": "markdown",
   "metadata": {
    "slideshow": {
     "slide_type": "notes"
    }
   },
   "source": [
    "# Poker solver\n",
    "\n",
    "this notebook is a poker(no limit texas holdem) solver."
   ]
  },
  {
   "cell_type": "code",
   "execution_count": 1,
   "metadata": {},
   "outputs": [],
   "source": [
    "import random\n",
    "from random import randint\n",
    "import re\n",
    "import bisect\n",
    "import pandas as pd"
   ]
  },
  {
   "cell_type": "code",
   "execution_count": 52,
   "metadata": {},
   "outputs": [
    {
     "name": "stdout",
     "output_type": "stream",
     "text": [
      "number of cards :  52\n",
      "[{'id': 0, 'stack': '10000', 'hand': [{'color': 7, 'value': 'd'}, {'color': 3, 'value': 's'}]}, {'id': 1, 'stack': '10000', 'hand': [{'color': 3, 'value': 'c'}, {'color': 11, 'value': 'h'}]}]\n"
     ]
    }
   ],
   "source": [
    "#this class represent the game\n",
    "class Poker:\n",
    "\n",
    "    def __init__(self, number_of_players, starting_stack): #class contructor\n",
    "        self.signs = ['c','d','h','s']# different colors for a card(1 = Diamonds, 2 = clubs, 3 = Spades, 4 = Hearts)\n",
    "        self.numbers = [1,2,3,4,5,6,7,8,9,10,11,12,13]# different numbers for a card (13=As, 12=King, ...)\n",
    "        self.cards = []# array of cards\n",
    "        self.players=[{'id' : thing, 'stack': starting_stack, 'hand': []} for thing in range(number_of_players)] # players and their attributs \n",
    "        for number in self.numbers: # Make the deck of 52 cards\n",
    "            for sign in self.signs:\n",
    "                self.cards.append({'color' : number,'value' : sign})\n",
    "        print('number of cards : ',len(self.cards))      \n",
    "\n",
    "    def card_dealing(self): #dealing cards method\n",
    "        cards = self.cards\n",
    "        random.shuffle(cards)\n",
    "        for dealing_turn in range(2):\n",
    "            for number_of_players in range(len(self.players)):\n",
    "                card = cards.pop(len(cards)-1)  \n",
    "                self.players[number_of_players]['hand'].append(card)\n",
    "\n",
    "        print(self.players)\n",
    "\n",
    "    def compute_result(self): \n",
    "        return 0\n",
    "\n",
    "    def board_dealing(self):\n",
    "        return 0\n",
    "           \n",
    "\n",
    "game = Poker(2,'10000')\n",
    "game.card_dealing()\n",
    "#game.compute_result()\n"
   ]
  }
 ],
 "metadata": {
  "kernelspec": {
   "display_name": "tf",
   "language": "python",
   "name": "python3"
  },
  "language_info": {
   "codemirror_mode": {
    "name": "ipython",
    "version": 3
   },
   "file_extension": ".py",
   "mimetype": "text/x-python",
   "name": "python",
   "nbconvert_exporter": "python",
   "pygments_lexer": "ipython3",
   "version": "3.9.15"
  },
  "orig_nbformat": 4,
  "vscode": {
   "interpreter": {
    "hash": "84a110c7556684ff5440fdfb77f99ea229180599b008d637d9e8ee209a065a9e"
   }
  }
 },
 "nbformat": 4,
 "nbformat_minor": 2
}
